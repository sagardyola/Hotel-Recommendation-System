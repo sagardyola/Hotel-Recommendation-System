{
 "cells": [
  {
   "cell_type": "code",
   "execution_count": 1,
   "metadata": {},
   "outputs": [],
   "source": [
    "import pandas as pd\n",
    "\n",
    "# df = pd.read_csv('data.csv', sep=',', names=['User_Name','Rating','Hotel_Name'])\n",
    "\n",
    "# df['User_Name'] = df['User_Name'].str.capitalize()\n",
    "# df['Hotel_Name'] = df['Hotel_Name'].str.capitalize()\n",
    "\n",
    "Ratings =pd.read_csv('ratings.csv',encoding=\"latin-1\")\n",
    "Hotels =pd.read_csv('hotels.csv',encoding=\"latin-1\")\n",
    "\n",
    "Ratings['user_name'] = Ratings['user_name'].str.capitalize()\n",
    "Hotels['hotel_name'] = Hotels['hotel_name'].str.capitalize()\n",
    "\n",
    "df=pd.merge(Ratings, Hotels)"
   ]
  },
  {
   "cell_type": "code",
   "execution_count": 2,
   "metadata": {},
   "outputs": [
    {
     "data": {
      "text/html": [
       "<div>\n",
       "<style scoped>\n",
       "    .dataframe tbody tr th:only-of-type {\n",
       "        vertical-align: middle;\n",
       "    }\n",
       "\n",
       "    .dataframe tbody tr th {\n",
       "        vertical-align: top;\n",
       "    }\n",
       "\n",
       "    .dataframe thead th {\n",
       "        text-align: right;\n",
       "    }\n",
       "</style>\n",
       "<table border=\"1\" class=\"dataframe\">\n",
       "  <thead>\n",
       "    <tr style=\"text-align: right;\">\n",
       "      <th>user_name</th>\n",
       "      <th>Aryan</th>\n",
       "      <th>Ashish</th>\n",
       "      <th>Erica</th>\n",
       "      <th>Hom</th>\n",
       "      <th>Mary</th>\n",
       "      <th>Nischal</th>\n",
       "      <th>Nivaja</th>\n",
       "      <th>Sagar</th>\n",
       "      <th>Sahil</th>\n",
       "      <th>Sumitra</th>\n",
       "      <th>Sunita</th>\n",
       "      <th>Surya</th>\n",
       "      <th>Sushant</th>\n",
       "    </tr>\n",
       "    <tr>\n",
       "      <th>hotel_name</th>\n",
       "      <th></th>\n",
       "      <th></th>\n",
       "      <th></th>\n",
       "      <th></th>\n",
       "      <th></th>\n",
       "      <th></th>\n",
       "      <th></th>\n",
       "      <th></th>\n",
       "      <th></th>\n",
       "      <th></th>\n",
       "      <th></th>\n",
       "      <th></th>\n",
       "      <th></th>\n",
       "    </tr>\n",
       "  </thead>\n",
       "  <tbody>\n",
       "    <tr>\n",
       "      <th>Annapurna</th>\n",
       "      <td>3.600000</td>\n",
       "      <td>2.285714</td>\n",
       "      <td>2.714286</td>\n",
       "      <td>1.833333</td>\n",
       "      <td>3.750000</td>\n",
       "      <td>3.000000</td>\n",
       "      <td>2.875000</td>\n",
       "      <td>3.833333</td>\n",
       "      <td>3.571429</td>\n",
       "      <td>3.444444</td>\n",
       "      <td>2.857143</td>\n",
       "      <td>2.375000</td>\n",
       "      <td>3.250000</td>\n",
       "    </tr>\n",
       "    <tr>\n",
       "      <th>Everest</th>\n",
       "      <td>2.181818</td>\n",
       "      <td>3.000000</td>\n",
       "      <td>1.800000</td>\n",
       "      <td>2.600000</td>\n",
       "      <td>2.500000</td>\n",
       "      <td>1.875000</td>\n",
       "      <td>3.600000</td>\n",
       "      <td>3.333333</td>\n",
       "      <td>3.000000</td>\n",
       "      <td>2.800000</td>\n",
       "      <td>2.833333</td>\n",
       "      <td>2.125000</td>\n",
       "      <td>2.857143</td>\n",
       "    </tr>\n",
       "    <tr>\n",
       "      <th>Goodwill</th>\n",
       "      <td>2.300000</td>\n",
       "      <td>3.000000</td>\n",
       "      <td>3.500000</td>\n",
       "      <td>2.333333</td>\n",
       "      <td>2.857143</td>\n",
       "      <td>3.142857</td>\n",
       "      <td>4.000000</td>\n",
       "      <td>3.666667</td>\n",
       "      <td>3.375000</td>\n",
       "      <td>3.500000</td>\n",
       "      <td>2.333333</td>\n",
       "      <td>2.500000</td>\n",
       "      <td>2.857143</td>\n",
       "    </tr>\n",
       "    <tr>\n",
       "      <th>Himalaya</th>\n",
       "      <td>3.000000</td>\n",
       "      <td>3.500000</td>\n",
       "      <td>2.636364</td>\n",
       "      <td>3.000000</td>\n",
       "      <td>2.285714</td>\n",
       "      <td>3.200000</td>\n",
       "      <td>1.500000</td>\n",
       "      <td>2.285714</td>\n",
       "      <td>3.000000</td>\n",
       "      <td>2.428571</td>\n",
       "      <td>2.800000</td>\n",
       "      <td>2.333333</td>\n",
       "      <td>3.500000</td>\n",
       "    </tr>\n",
       "    <tr>\n",
       "      <th>Malla</th>\n",
       "      <td>4.000000</td>\n",
       "      <td>3.444444</td>\n",
       "      <td>4.111111</td>\n",
       "      <td>2.333333</td>\n",
       "      <td>2.375000</td>\n",
       "      <td>3.100000</td>\n",
       "      <td>3.428571</td>\n",
       "      <td>2.500000</td>\n",
       "      <td>3.333333</td>\n",
       "      <td>3.500000</td>\n",
       "      <td>2.600000</td>\n",
       "      <td>3.666667</td>\n",
       "      <td>2.333333</td>\n",
       "    </tr>\n",
       "  </tbody>\n",
       "</table>\n",
       "</div>"
      ],
      "text/plain": [
       "user_name      Aryan    Ashish     Erica       Hom      Mary   Nischal  \\\n",
       "hotel_name                                                               \n",
       "Annapurna   3.600000  2.285714  2.714286  1.833333  3.750000  3.000000   \n",
       "Everest     2.181818  3.000000  1.800000  2.600000  2.500000  1.875000   \n",
       "Goodwill    2.300000  3.000000  3.500000  2.333333  2.857143  3.142857   \n",
       "Himalaya    3.000000  3.500000  2.636364  3.000000  2.285714  3.200000   \n",
       "Malla       4.000000  3.444444  4.111111  2.333333  2.375000  3.100000   \n",
       "\n",
       "user_name     Nivaja     Sagar     Sahil   Sumitra    Sunita     Surya  \\\n",
       "hotel_name                                                               \n",
       "Annapurna   2.875000  3.833333  3.571429  3.444444  2.857143  2.375000   \n",
       "Everest     3.600000  3.333333  3.000000  2.800000  2.833333  2.125000   \n",
       "Goodwill    4.000000  3.666667  3.375000  3.500000  2.333333  2.500000   \n",
       "Himalaya    1.500000  2.285714  3.000000  2.428571  2.800000  2.333333   \n",
       "Malla       3.428571  2.500000  3.333333  3.500000  2.600000  3.666667   \n",
       "\n",
       "user_name    Sushant  \n",
       "hotel_name            \n",
       "Annapurna   3.250000  \n",
       "Everest     2.857143  \n",
       "Goodwill    2.857143  \n",
       "Himalaya    3.500000  \n",
       "Malla       2.333333  "
      ]
     },
     "execution_count": 2,
     "metadata": {},
     "output_type": "execute_result"
    }
   ],
   "source": [
    "hotel_matrix = df.pivot_table(index='hotel_name', columns='user_name', values='rating')\n",
    "hotel_matrix.head()"
   ]
  },
  {
   "cell_type": "code",
   "execution_count": 3,
   "metadata": {},
   "outputs": [
    {
     "data": {
      "text/plain": [
       "user_name\n",
       "Aryan      3.600000\n",
       "Ashish     2.285714\n",
       "Erica      2.714286\n",
       "Hom        1.833333\n",
       "Mary       3.750000\n",
       "Nischal    3.000000\n",
       "Nivaja     2.875000\n",
       "Sagar      3.833333\n",
       "Sahil      3.571429\n",
       "Sumitra    3.444444\n",
       "Sunita     2.857143\n",
       "Surya      2.375000\n",
       "Sushant    3.250000\n",
       "Name: Annapurna, dtype: float64"
      ]
     },
     "execution_count": 3,
     "metadata": {},
     "output_type": "execute_result"
    }
   ],
   "source": [
    "# Pearson correlation\n",
    "# corr = hotel_matrix.corr(method = 'pearson')\n",
    "\n",
    "\n",
    "userRatings = hotel_matrix.loc['Annapurna'].dropna()\n",
    "userRatings"
   ]
  },
  {
   "cell_type": "code",
   "execution_count": 4,
   "metadata": {},
   "outputs": [],
   "source": [
    "simUsers = pd.Series()\n",
    "\n",
    "for i in range(0, len(userRatings.index)):\n",
    "    sims = corr[userRatings.index[i]].dropna()\n",
    "    sims = sims.map(lambda x: x * userRatings[i])\n",
    "    simUsers = simUsers.append(sims)\n"
   ]
  },
  {
   "cell_type": "code",
   "execution_count": 5,
   "metadata": {},
   "outputs": [],
   "source": [
    "# Similar users\n",
    "simUsers = simUsers.groupby(simUsers.index).sum()\n",
    "simUsers.sort_values(inplace = True, ascending = False)"
   ]
  },
  {
   "cell_type": "code",
   "execution_count": 6,
   "metadata": {},
   "outputs": [
    {
     "data": {
      "text/plain": [
       "Erica      8.626815\n",
       "Surya      6.096917\n",
       "Aryan      5.794113\n",
       "Nivaja     4.365138\n",
       "Sahil      3.738895\n",
       "Nischal    3.286045\n",
       "Sagar      2.770952\n",
       "Mary       2.633393\n",
       "Sumitra    2.483665\n",
       "Hom        1.222836\n",
       "Sushant    0.748839\n",
       "Sunita     0.304396\n",
       "Ashish    -1.173088\n",
       "dtype: float64"
      ]
     },
     "execution_count": 6,
     "metadata": {},
     "output_type": "execute_result"
    }
   ],
   "source": [
    "simUsers"
   ]
  },
  {
   "cell_type": "code",
   "execution_count": 7,
   "metadata": {},
   "outputs": [],
   "source": [
    "# Checkings for ratings greater than 4\n",
    "d = simUsers[simUsers>4]"
   ]
  },
  {
   "cell_type": "code",
   "execution_count": 8,
   "metadata": {},
   "outputs": [
    {
     "name": "stdout",
     "output_type": "stream",
     "text": [
      "Erica     8.626815\n",
      "Surya     6.096917\n",
      "Aryan     5.794113\n",
      "Nivaja    4.365138\n",
      "dtype: float64\n"
     ]
    }
   ],
   "source": [
    "if len(d) == 0:\n",
    "    print(\"Nothing To Recommend. Sorry\")\n",
    "else:\n",
    "    print(d)"
   ]
  },
  {
   "cell_type": "code",
   "execution_count": null,
   "metadata": {},
   "outputs": [],
   "source": []
  },
  {
   "cell_type": "code",
   "execution_count": 9,
   "metadata": {},
   "outputs": [],
   "source": [
    "# df = d.to_frame().reset_index()\n",
    "# df = df.rename(columns= {0: 'list'})\n",
    "# df.index.name = 'index'\n",
    "# df['index']"
   ]
  },
  {
   "cell_type": "code",
   "execution_count": null,
   "metadata": {},
   "outputs": [],
   "source": []
  },
  {
   "cell_type": "code",
   "execution_count": null,
   "metadata": {},
   "outputs": [],
   "source": []
  }
 ],
 "metadata": {
  "kernelspec": {
   "display_name": "Python 3",
   "language": "python",
   "name": "python3"
  },
  "language_info": {
   "codemirror_mode": {
    "name": "ipython",
    "version": 3
   },
   "file_extension": ".py",
   "mimetype": "text/x-python",
   "name": "python",
   "nbconvert_exporter": "python",
   "pygments_lexer": "ipython3",
   "version": "3.7.1"
  }
 },
 "nbformat": 4,
 "nbformat_minor": 2
}
